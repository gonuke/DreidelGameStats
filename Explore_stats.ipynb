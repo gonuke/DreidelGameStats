{
 "cells": [
  {
   "cell_type": "code",
   "execution_count": 23,
   "metadata": {},
   "outputs": [],
   "source": [
    "import numpy as np\n",
    "import matplotlib.pyplot as plt\n",
    "from tqdm import tqdm\n",
    "\n",
    "import Dreidel as Dreidel"
   ]
  },
  {
   "cell_type": "code",
   "execution_count": 56,
   "metadata": {},
   "outputs": [],
   "source": [
    "num_trials = 100\n",
    "\n",
    "ref_num_players = 4\n",
    "min_num_players = 2\n",
    "max_num_players = 6\n",
    "\n",
    "ref_num_coins = 5\n",
    "min_num_coins = 3\n",
    "max_num_coins = 10"
   ]
  },
  {
   "cell_type": "code",
   "execution_count": 57,
   "metadata": {},
   "outputs": [
    {
     "name": "stderr",
     "output_type": "stream",
     "text": [
      "100%|██████████| 8/8 [00:10<00:00,  1.33s/it]\n"
     ]
    }
   ],
   "source": [
    "summary_table_end = np.array([0,0,0,0,0])\n",
    "summary_table_exit = np.array([0,0,0,0,0])\n",
    "for num_coins in tqdm(range(min_num_coins,max_num_coins+1)):\n",
    "    rounds = []\n",
    "    first_exit = []\n",
    "    for trial in range(num_trials):\n",
    "        game = Dreidel.Dreidel(ref_num_players,num_coins)\n",
    "        game.play_game()\n",
    "        rounds.append(np.max(game.exit_round))\n",
    "        first_exit.append(np.min(game.exit_round))\n",
    "    summary_table_end = np.vstack([summary_table_end,[num_coins,np.min(rounds),np.mean(rounds),np.median(rounds),np.max(rounds)]])\n",
    "    summary_table_exit = np.vstack([summary_table_exit,[num_coins,np.min(first_exit),np.mean(first_exit),np.median(first_exit),np.max(first_exit)]])"
   ]
  },
  {
   "cell_type": "code",
   "execution_count": 58,
   "metadata": {
    "scrolled": true
   },
   "outputs": [
    {
     "data": {
      "text/plain": [
       "array([[   0.  ,    0.  ,    0.  ,    0.  ,    0.  ],\n",
       "       [   3.  ,    3.  ,   30.44,   20.  ,  193.  ],\n",
       "       [   4.  ,    9.  ,   66.13,   48.  ,  274.  ],\n",
       "       [   5.  ,    6.  ,   94.93,   72.  ,  425.  ],\n",
       "       [   6.  ,   20.  ,  147.04,  101.  ,  823.  ],\n",
       "       [   7.  ,   19.  ,  194.18,  142.5 ,  994.  ],\n",
       "       [   8.  ,   25.  ,  278.58,  218.  , 1054.  ],\n",
       "       [   9.  ,   55.  ,  404.57,  316.  , 1893.  ],\n",
       "       [  10.  ,   35.  ,  396.08,  331.  , 1493.  ]])"
      ]
     },
     "execution_count": 58,
     "metadata": {},
     "output_type": "execute_result"
    }
   ],
   "source": [
    "summary_table_end"
   ]
  },
  {
   "cell_type": "code",
   "execution_count": 59,
   "metadata": {},
   "outputs": [
    {
     "data": {
      "text/plain": [
       "array([[ 0.  ,  0.  ,  0.  ,  0.  ,  0.  ],\n",
       "       [ 3.  ,  0.  ,  1.99,  1.  ,  8.  ],\n",
       "       [ 4.  ,  1.  ,  3.39,  3.  , 15.  ],\n",
       "       [ 5.  ,  1.  ,  6.21,  6.  , 20.  ],\n",
       "       [ 6.  ,  2.  ,  9.16,  8.  , 39.  ],\n",
       "       [ 7.  ,  2.  , 10.09,  8.5 , 48.  ],\n",
       "       [ 8.  ,  2.  , 13.92, 12.  , 37.  ],\n",
       "       [ 9.  ,  3.  , 17.31, 14.  , 58.  ],\n",
       "       [10.  ,  4.  , 19.61, 16.  , 96.  ]])"
      ]
     },
     "execution_count": 59,
     "metadata": {},
     "output_type": "execute_result"
    }
   ],
   "source": [
    "summary_table_exit"
   ]
  },
  {
   "cell_type": "code",
   "execution_count": 54,
   "metadata": {},
   "outputs": [
    {
     "data": {
      "text/plain": [
       "[<matplotlib.lines.Line2D at 0x2b690967c6d0>,\n",
       " <matplotlib.lines.Line2D at 0x2b690967c8d0>,\n",
       " <matplotlib.lines.Line2D at 0x2b690967ca90>]"
      ]
     },
     "execution_count": 54,
     "metadata": {},
     "output_type": "execute_result"
    },
    {
     "data": {
      "image/png": "[encoded data removed]",
      "text/plain": [
       "<Figure size 432x288 with 1 Axes>"
      ]
     },
     "metadata": {
      "needs_background": "light"
     },
     "output_type": "display_data"
    }
   ],
   "source": [
    "plt.plot(summary_table[:,1:-1])"
   ]
  },
  {
   "cell_type": "code",
   "execution_count": null,
   "metadata": {},
   "outputs": [],
   "source": []
  }
 ],
 "metadata": {
  "kernelspec": {
   "display_name": "Python 3",
   "language": "python",
   "name": "python3"
  },
  "language_info": {
   "codemirror_mode": {
    "name": "ipython",
    "version": 3
   },
   "file_extension": ".py",
   "mimetype": "text/x-python",
   "name": "python",
   "nbconvert_exporter": "python",
   "pygments_lexer": "ipython3",
   "version": "3.7.4"
  }
 },
 "nbformat": 4,
 "nbformat_minor": 2
}
